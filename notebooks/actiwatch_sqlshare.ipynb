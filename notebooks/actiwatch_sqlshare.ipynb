{
 "metadata": {
  "name": "",
  "signature": "sha256:8f99115ef37979ff7b8a5fbed04a8bb85d1f4fa1af667fed5b7e5f46bdd9c234"
 },
 "nbformat": 3,
 "nbformat_minor": 0,
 "worksheets": [
  {
   "cells": [
    {
     "cell_type": "code",
     "collapsed": false,
     "input": [
      "import sqlshare\n",
      "from bokeh.plotting import *\n",
      "import numpy as np\n",
      "\n",
      "conn = sqlshare.SQLShare()\n",
      "\n",
      "TOOLS=\"pan,wheel_zoom,box_zoom,reset,previewsave\"\n",
      "\n",
      "output_notebook()"
     ],
     "language": "python",
     "metadata": {},
     "outputs": [],
     "prompt_number": 48
    },
    {
     "cell_type": "code",
     "collapsed": false,
     "input": [
      "\n",
      "rs = conn.execute_sql(\"SELECT * FROM [angelak1@washington.edu].[Final_master_file]\")\n",
      "\n",
      "hdr = rs[\"header\"]\n",
      "\n",
      "xlabel = \"bedtime_stdev_hours_since_previous_3pm\"\n",
      "ylabel = \"Final Quarter Grade\"\n",
      "indx = hdr.index(xlabel)\n",
      "indy = hdr.index(ylabel)\n",
      "indc = hdr.index(\"Gender\")\n",
      "\n",
      "indx, indy\n",
      "\n",
      "cols = zip(*rs[\"data\"])\n",
      "\n",
      "x = cols[indx]\n",
      "y = cols[indy]\n",
      "c = cols[indc]\n",
      "\n",
      "carr = np.array(c)\n"
     ],
     "language": "python",
     "metadata": {},
     "outputs": [],
     "prompt_number": 89
    },
    {
     "cell_type": "code",
     "collapsed": false,
     "input": [
      "colors = [\"#%02x%02x%02x\" % (r, g, 100) for r, g in zip(10+50*carr, 10+100*carr)]\n",
      "\n",
      "scatter(x, y, \n",
      "        size=12, \n",
      "        color=colors, \n",
      "        alpha=0.7, \n",
      "        tools=TOOLS\n",
      "        )\n",
      "\n",
      "xaxis().axis_label=xlabel\n",
      "yaxis().axis_label=ylabel\n",
      "\n",
      "show()"
     ],
     "language": "python",
     "metadata": {},
     "outputs": [
      {
       "html": [
        "<script type=\"text/javascript\">\n",
        "        $(function() {\n",
        "            var modelid = \"ae952c6a-989d-4a79-a078-6c103ce4c64b\";\n",
        "            var modeltype = \"Plot\";\n",
        "            var elementid = \"c908e25b-c494-4285-9a8e-8325dfffa8b9\";\n",
        "            Bokeh.logger.info(\"Realizing plot:\")\n",
        "            Bokeh.logger.info(\" - modeltype: Plot\");\n",
        "            Bokeh.logger.info(\" - modelid: ae952c6a-989d-4a79-a078-6c103ce4c64b\");\n",
        "            Bokeh.logger.info(\" - elementid: c908e25b-c494-4285-9a8e-8325dfffa8b9\");\n",
        "            var all_models = [{\"attributes\": {\"column_names\": [\"_autoindex\", \"Series 1\", \"fill_color\", \"line_color\", \"x\", \"y\"], \"tags\": [], \"doc\": null, \"selected\": [], \"discrete_ranges\": {}, \"cont_ranges\": {}, \"data\": {\"line_color\": [\"#6ed264\", \"#6ed264\", \"#3c6e64\", \"#6ed264\", \"#6ed264\", \"#6ed264\", \"#6ed264\", \"#6ed264\", \"#3c6e64\", \"#6ed264\", \"#3c6e64\", \"#6ed264\", \"#6ed264\", \"#6ed264\", \"#6ed264\", \"#3c6e64\", \"#6ed264\", \"#6ed264\", \"#6ed264\", \"#3c6e64\", \"#3c6e64\", \"#3c6e64\", \"#6ed264\", \"#3c6e64\", \"#3c6e64\", \"#3c6e64\", \"#3c6e64\", \"#6ed264\", \"#6ed264\", \"#6ed264\", \"#3c6e64\", \"#3c6e64\", \"#6ed264\", \"#6ed264\", \"#3c6e64\", \"#3c6e64\", \"#3c6e64\", \"#6ed264\", \"#6ed264\", \"#6ed264\", \"#6ed264\", \"#6ed264\", \"#3c6e64\", \"#3c6e64\", \"#6ed264\", \"#3c6e64\", \"#6ed264\", \"#6ed264\", \"#3c6e64\", \"#3c6e64\", \"#6ed264\", \"#3c6e64\", \"#3c6e64\", \"#3c6e64\", \"#6ed264\", \"#3c6e64\", \"#6ed264\", \"#6ed264\", \"#3c6e64\"], \"fill_color\": [\"#6ed264\", \"#6ed264\", \"#3c6e64\", \"#6ed264\", \"#6ed264\", \"#6ed264\", \"#6ed264\", \"#6ed264\", \"#3c6e64\", \"#6ed264\", \"#3c6e64\", \"#6ed264\", \"#6ed264\", \"#6ed264\", \"#6ed264\", \"#3c6e64\", \"#6ed264\", \"#6ed264\", \"#6ed264\", \"#3c6e64\", \"#3c6e64\", \"#3c6e64\", \"#6ed264\", \"#3c6e64\", \"#3c6e64\", \"#3c6e64\", \"#3c6e64\", \"#6ed264\", \"#6ed264\", \"#6ed264\", \"#3c6e64\", \"#3c6e64\", \"#6ed264\", \"#6ed264\", \"#3c6e64\", \"#3c6e64\", \"#3c6e64\", \"#6ed264\", \"#6ed264\", \"#6ed264\", \"#6ed264\", \"#6ed264\", \"#3c6e64\", \"#3c6e64\", \"#6ed264\", \"#3c6e64\", \"#6ed264\", \"#6ed264\", \"#3c6e64\", \"#3c6e64\", \"#6ed264\", \"#3c6e64\", \"#3c6e64\", \"#3c6e64\", \"#6ed264\", \"#3c6e64\", \"#6ed264\", \"#6ed264\", \"#3c6e64\"], \"_autoindex\": [0.42709194083476903, 0.6508542250168663, 1.078085568307391, 1.0088727501156896, 1.3064122576878716, 1.7001838135919305, 0.48215514720772107, 0.474898981182475, 0.778174580526651, 1.064146300161869, 1.1863419093693062, 2.661204710883339, 0.5157247112345087, 0.7183118828970998, 1.3670223114492315, 1.5869840765613858, 2.0826110076678717, 1.9640282678813663, 2.4538327963805266, 0.9185586535436918, 0.9738477341244559, 1.064255175123836, 1.9534512052035518, 1.864880270211009, 0.8803408430829505, 2.6502968960169495, 1.2161148101563122, 2.4727683710098725, 1.4571819696224202, 1.799884139789747, 1.1067971810589328, 5.42259297727778, 0.9184325132973097, 0.7970263799050818, 1.1567037474043986, 1.194606057800406, 1.5981037177206787, 1.8064315022226312, 0.9599624674376329, 1.3983704967912978, 0.4915960401250837, 0.38369559694009486, 0.5432666114452318, 3.4024092036216045, 0.719599713832832, 0.9781171699485538, 0.5682576806930986, 1.5516567955289637, 0.6846531847098576, 5.072369863434793, 0.8855187875749782, 0.45752094236059637, 1.548894668010939, 0.7948036049052792, 3.533896875918947, 0.5235207979880135, 1.3120699443585122, 0.5717096128994101, 0.5861044781089557], \"y\": [74.58076923076922, 86.46538461538461, 59.784615384615385, 74.61538461538461, 92.8923076923077, 76.15769230769232, 74.38846153846154, 72.16538461538461, 73.0576923076923, 81.11923076923077, 48.54615384615384, 91.30000000000001, 83.22307692307693, 84.89615384615385, 82.31538461538462, 77.61153846153847, 85.25384615384615, 84.60769230769232, 76.52692307692308, 55.78076923076923, 82.57692307692308, 76.24615384615385, 88.35000000000001, 92.62307692307692, 86.1576923076923, 77.33461538461539, 73.65769230769232, 70.27692307692308, 91.02692307692308, 72.01153846153846, 62.22307692307692, 62.67307692307693, 87.44615384615385, 89.28846153846153, 59.926923076923075, 71.6076923076923, 83.70769230769231, 67.95384615384614, 56.457692307692305, 81.39615384615384, 75.0576923076923, 84.77692307692307, 87.25769230769231, 63.8, 78.72692307692307, 72.71538461538462, 90.15384615384616, 69.8923076923077, 88.8923076923077, 96.58461538461539, 72.89615384615384, 65.58461538461539, 91.50384615384615, 85.50769230769231, 61.63461538461539, 77.76923076923077, 59.573076923076925, 73.97307692307692, 84.78076923076924], \"x\": [0.42709194083476903, 0.6508542250168663, 1.078085568307391, 1.0088727501156896, 1.3064122576878716, 1.7001838135919305, 0.48215514720772107, 0.474898981182475, 0.778174580526651, 1.064146300161869, 1.1863419093693062, 2.661204710883339, 0.5157247112345087, 0.7183118828970998, 1.3670223114492315, 1.5869840765613858, 2.0826110076678717, 1.9640282678813663, 2.4538327963805266, 0.9185586535436918, 0.9738477341244559, 1.064255175123836, 1.9534512052035518, 1.864880270211009, 0.8803408430829505, 2.6502968960169495, 1.2161148101563122, 2.4727683710098725, 1.4571819696224202, 1.799884139789747, 1.1067971810589328, 5.42259297727778, 0.9184325132973097, 0.7970263799050818, 1.1567037474043986, 1.194606057800406, 1.5981037177206787, 1.8064315022226312, 0.9599624674376329, 1.3983704967912978, 0.4915960401250837, 0.38369559694009486, 0.5432666114452318, 3.4024092036216045, 0.719599713832832, 0.9781171699485538, 0.5682576806930986, 1.5516567955289637, 0.6846531847098576, 5.072369863434793, 0.8855187875749782, 0.45752094236059637, 1.548894668010939, 0.7948036049052792, 3.533896875918947, 0.5235207979880135, 1.3120699443585122, 0.5717096128994101, 0.5861044781089557], \"Series 1\": [74.58076923076922, 86.46538461538461, 59.784615384615385, 74.61538461538461, 92.8923076923077, 76.15769230769232, 74.38846153846154, 72.16538461538461, 73.0576923076923, 81.11923076923077, 48.54615384615384, 91.30000000000001, 83.22307692307693, 84.89615384615385, 82.31538461538462, 77.61153846153847, 85.25384615384615, 84.60769230769232, 76.52692307692308, 55.78076923076923, 82.57692307692308, 76.24615384615385, 88.35000000000001, 92.62307692307692, 86.1576923076923, 77.33461538461539, 73.65769230769232, 70.27692307692308, 91.02692307692308, 72.01153846153846, 62.22307692307692, 62.67307692307693, 87.44615384615385, 89.28846153846153, 59.926923076923075, 71.6076923076923, 83.70769230769231, 67.95384615384614, 56.457692307692305, 81.39615384615384, 75.0576923076923, 84.77692307692307, 87.25769230769231, 63.8, 78.72692307692307, 72.71538461538462, 90.15384615384616, 69.8923076923077, 88.8923076923077, 96.58461538461539, 72.89615384615384, 65.58461538461539, 91.50384615384615, 85.50769230769231, 61.63461538461539, 77.76923076923077, 59.573076923076925, 73.97307692307692, 84.78076923076924]}, \"id\": \"84437dfb-b081-4cfb-bdad-cbbe4c9d8a0f\"}, \"type\": \"ColumnDataSource\", \"id\": \"84437dfb-b081-4cfb-bdad-cbbe4c9d8a0f\"}, {\"attributes\": {\"plot\": {\"type\": \"Plot\", \"id\": \"ae952c6a-989d-4a79-a078-6c103ce4c64b\"}, \"tags\": [], \"doc\": null, \"axis_label\": \"Final Quarter Grade\", \"formatter\": {\"type\": \"BasicTickFormatter\", \"id\": \"dd47fdc7-384a-4e05-bb7c-6e990fbaa091\"}, \"ticker\": {\"type\": \"BasicTicker\", \"id\": \"9c426ae5-e8b2-4354-982e-150e9ca1b3cf\"}, \"id\": \"7e5bc4a9-b68c-43cc-aa71-703788104372\"}, \"type\": \"LinearAxis\", \"id\": \"7e5bc4a9-b68c-43cc-aa71-703788104372\"}, {\"attributes\": {\"x_range_name\": \"default\", \"data_source\": {\"type\": \"ColumnDataSource\", \"id\": \"84437dfb-b081-4cfb-bdad-cbbe4c9d8a0f\"}, \"name\": null, \"server_data_source\": null, \"doc\": null, \"nonselection_glyphspec\": {\"line_color\": {\"value\": \"#1f77b4\"}, \"angle_units\": \"deg\", \"fill_color\": {\"value\": \"#1f77b4\"}, \"visible\": null, \"line_dash_offset\": 0, \"line_join\": \"miter\", \"size\": {\"units\": \"screen\", \"value\": 12}, \"line_alpha\": {\"units\": \"data\", \"value\": 0.1}, \"radius_units\": \"screen\", \"end_angle_units\": \"deg\", \"valign\": null, \"length_units\": \"screen\", \"start_angle_units\": \"deg\", \"line_cap\": \"butt\", \"line_dash\": [], \"line_width\": {\"units\": \"data\", \"field\": \"line_width\"}, \"type\": \"circle\", \"fill_alpha\": {\"units\": \"data\", \"value\": 0.1}, \"halign\": null, \"y\": {\"units\": \"data\", \"field\": \"y\"}, \"x\": {\"units\": \"data\", \"field\": \"x\"}, \"margin\": null}, \"y_range_name\": \"default\", \"glyphspec\": {\"line_color\": {\"units\": \"data\", \"field\": \"line_color\"}, \"line_alpha\": {\"units\": \"data\", \"value\": 0.7}, \"fill_color\": {\"units\": \"data\", \"field\": \"fill_color\"}, \"line_width\": {\"units\": \"data\", \"field\": \"line_width\"}, \"fill_alpha\": {\"units\": \"data\", \"value\": 0.7}, \"y\": {\"units\": \"data\", \"field\": \"y\"}, \"x\": {\"units\": \"data\", \"field\": \"x\"}, \"type\": \"circle\", \"size\": {\"units\": \"screen\", \"value\": 12}}, \"id\": \"0de1f3e8-cf95-41ba-99ec-187712d19d96\"}, \"type\": \"Glyph\", \"id\": \"0de1f3e8-cf95-41ba-99ec-187712d19d96\"}, {\"attributes\": {\"doc\": null, \"id\": \"01bd23a1-92b8-4107-a27c-c911551c2ada\", \"tags\": []}, \"type\": \"BasicTickFormatter\", \"id\": \"01bd23a1-92b8-4107-a27c-c911551c2ada\"}, {\"attributes\": {\"sources\": [{\"source\": {\"type\": \"ColumnDataSource\", \"id\": \"84437dfb-b081-4cfb-bdad-cbbe4c9d8a0f\"}, \"columns\": [\"y\"]}], \"tags\": [], \"doc\": null, \"id\": \"679c1498-0a2d-42e7-8874-f4be916ef196\"}, \"type\": \"DataRange1d\", \"id\": \"679c1498-0a2d-42e7-8874-f4be916ef196\"}, {\"attributes\": {\"plot\": {\"type\": \"Plot\", \"id\": \"ae952c6a-989d-4a79-a078-6c103ce4c64b\"}, \"tags\": [], \"doc\": null, \"id\": \"37ef17de-1eb0-4b8d-92bd-a5e312a09534\"}, \"type\": \"BoxZoomTool\", \"id\": \"37ef17de-1eb0-4b8d-92bd-a5e312a09534\"}, {\"attributes\": {\"x_range\": {\"type\": \"DataRange1d\", \"id\": \"555faad8-10b6-4971-b4d0-7f1702611818\"}, \"right\": [], \"data_sources\": [], \"y_range\": {\"type\": \"DataRange1d\", \"id\": \"679c1498-0a2d-42e7-8874-f4be916ef196\"}, \"title\": \"Plot\", \"renderers\": [{\"type\": \"LinearAxis\", \"id\": \"03ce488a-fda2-4b89-9099-54af8d2ddaf4\"}, {\"type\": \"Grid\", \"id\": \"7b9dfc1e-be87-4598-bf1e-ab893bfd0293\"}, {\"type\": \"LinearAxis\", \"id\": \"7e5bc4a9-b68c-43cc-aa71-703788104372\"}, {\"type\": \"Grid\", \"id\": \"f1223d55-0fa1-4717-9194-a1ba6f107f18\"}, {\"type\": \"BoxSelection\", \"id\": \"3c4aeee9-d119-49c4-9c89-75333d241ed1\"}, {\"type\": \"Glyph\", \"id\": \"0de1f3e8-cf95-41ba-99ec-187712d19d96\"}], \"extra_y_ranges\": {}, \"extra_x_ranges\": {}, \"above\": [], \"doc\": null, \"id\": \"ae952c6a-989d-4a79-a078-6c103ce4c64b\", \"tools\": [{\"type\": \"PanTool\", \"id\": \"1f178fa6-fd4d-4a63-af6d-be2815e158d3\"}, {\"type\": \"WheelZoomTool\", \"id\": \"c69f61f1-e1fa-42fd-bb77-8fb6703e6e29\"}, {\"type\": \"BoxZoomTool\", \"id\": \"37ef17de-1eb0-4b8d-92bd-a5e312a09534\"}, {\"type\": \"ResetTool\", \"id\": \"84975a8c-d642-49a9-b6f3-dd086397899a\"}, {\"type\": \"PreviewSaveTool\", \"id\": \"5ecbe85b-3d30-457c-b596-3e3237ed4e21\"}], \"below\": [{\"type\": \"LinearAxis\", \"id\": \"03ce488a-fda2-4b89-9099-54af8d2ddaf4\"}], \"tags\": [], \"left\": [{\"type\": \"LinearAxis\", \"id\": \"7e5bc4a9-b68c-43cc-aa71-703788104372\"}]}, \"type\": \"Plot\", \"id\": \"ae952c6a-989d-4a79-a078-6c103ce4c64b\"}, {\"attributes\": {\"tags\": [], \"doc\": null, \"id\": \"9c426ae5-e8b2-4354-982e-150e9ca1b3cf\", \"num_minor_ticks\": 5}, \"type\": \"BasicTicker\", \"id\": \"9c426ae5-e8b2-4354-982e-150e9ca1b3cf\"}, {\"attributes\": {\"plot\": {\"type\": \"Plot\", \"id\": \"ae952c6a-989d-4a79-a078-6c103ce4c64b\"}, \"dimensions\": [\"width\", \"height\"], \"tags\": [], \"doc\": null, \"id\": \"1f178fa6-fd4d-4a63-af6d-be2815e158d3\"}, \"type\": \"PanTool\", \"id\": \"1f178fa6-fd4d-4a63-af6d-be2815e158d3\"}, {\"attributes\": {\"tags\": [], \"doc\": null, \"tool\": {\"type\": \"BoxZoomTool\", \"id\": \"37ef17de-1eb0-4b8d-92bd-a5e312a09534\"}, \"id\": \"3c4aeee9-d119-49c4-9c89-75333d241ed1\"}, \"type\": \"BoxSelection\", \"id\": \"3c4aeee9-d119-49c4-9c89-75333d241ed1\"}, {\"attributes\": {\"plot\": {\"type\": \"Plot\", \"id\": \"ae952c6a-989d-4a79-a078-6c103ce4c64b\"}, \"tags\": [], \"doc\": null, \"id\": \"5ecbe85b-3d30-457c-b596-3e3237ed4e21\"}, \"type\": \"PreviewSaveTool\", \"id\": \"5ecbe85b-3d30-457c-b596-3e3237ed4e21\"}, {\"attributes\": {\"sources\": [{\"source\": {\"type\": \"ColumnDataSource\", \"id\": \"84437dfb-b081-4cfb-bdad-cbbe4c9d8a0f\"}, \"columns\": [\"x\"]}], \"tags\": [], \"doc\": null, \"id\": \"555faad8-10b6-4971-b4d0-7f1702611818\"}, \"type\": \"DataRange1d\", \"id\": \"555faad8-10b6-4971-b4d0-7f1702611818\"}, {\"attributes\": {\"plot\": {\"type\": \"Plot\", \"id\": \"ae952c6a-989d-4a79-a078-6c103ce4c64b\"}, \"tags\": [], \"doc\": null, \"id\": \"84975a8c-d642-49a9-b6f3-dd086397899a\"}, \"type\": \"ResetTool\", \"id\": \"84975a8c-d642-49a9-b6f3-dd086397899a\"}, {\"attributes\": {\"plot\": {\"type\": \"Plot\", \"id\": \"ae952c6a-989d-4a79-a078-6c103ce4c64b\"}, \"tags\": [], \"doc\": null, \"axis_label\": \"bedtime_stdev_hours_since_previous_3pm\", \"formatter\": {\"type\": \"BasicTickFormatter\", \"id\": \"01bd23a1-92b8-4107-a27c-c911551c2ada\"}, \"ticker\": {\"type\": \"BasicTicker\", \"id\": \"e7001217-6528-4f57-ba79-98673d820aee\"}, \"id\": \"03ce488a-fda2-4b89-9099-54af8d2ddaf4\"}, \"type\": \"LinearAxis\", \"id\": \"03ce488a-fda2-4b89-9099-54af8d2ddaf4\"}, {\"attributes\": {\"plot\": {\"type\": \"Plot\", \"id\": \"ae952c6a-989d-4a79-a078-6c103ce4c64b\"}, \"tags\": [], \"doc\": null, \"dimension\": 0, \"ticker\": {\"type\": \"BasicTicker\", \"id\": \"e7001217-6528-4f57-ba79-98673d820aee\"}, \"id\": \"7b9dfc1e-be87-4598-bf1e-ab893bfd0293\"}, \"type\": \"Grid\", \"id\": \"7b9dfc1e-be87-4598-bf1e-ab893bfd0293\"}, {\"attributes\": {\"plot\": {\"type\": \"Plot\", \"id\": \"ae952c6a-989d-4a79-a078-6c103ce4c64b\"}, \"dimensions\": [\"width\", \"height\"], \"tags\": [], \"doc\": null, \"id\": \"c69f61f1-e1fa-42fd-bb77-8fb6703e6e29\"}, \"type\": \"WheelZoomTool\", \"id\": \"c69f61f1-e1fa-42fd-bb77-8fb6703e6e29\"}, {\"attributes\": {\"tags\": [], \"doc\": null, \"id\": \"e7001217-6528-4f57-ba79-98673d820aee\", \"num_minor_ticks\": 5}, \"type\": \"BasicTicker\", \"id\": \"e7001217-6528-4f57-ba79-98673d820aee\"}, {\"attributes\": {\"doc\": null, \"id\": \"dd47fdc7-384a-4e05-bb7c-6e990fbaa091\", \"tags\": []}, \"type\": \"BasicTickFormatter\", \"id\": \"dd47fdc7-384a-4e05-bb7c-6e990fbaa091\"}, {\"attributes\": {\"plot\": {\"type\": \"Plot\", \"id\": \"ae952c6a-989d-4a79-a078-6c103ce4c64b\"}, \"tags\": [], \"doc\": null, \"dimension\": 1, \"ticker\": {\"type\": \"BasicTicker\", \"id\": \"9c426ae5-e8b2-4354-982e-150e9ca1b3cf\"}, \"id\": \"f1223d55-0fa1-4717-9194-a1ba6f107f18\"}, \"type\": \"Grid\", \"id\": \"f1223d55-0fa1-4717-9194-a1ba6f107f18\"}];\n",
        "            Bokeh.load_models(all_models);\n",
        "            var model = Bokeh.Collections(modeltype).get(modelid);\n",
        "            var view = new model.default_view({model: model, el: '#c908e25b-c494-4285-9a8e-8325dfffa8b9'});\n",
        "        });\n",
        "    </script>\n",
        "<div class=\"plotdiv\" id=\"c908e25b-c494-4285-9a8e-8325dfffa8b9\"></div>\n",
        "\n"
       ],
       "metadata": {},
       "output_type": "display_data"
      }
     ],
     "prompt_number": 92
    },
    {
     "cell_type": "code",
     "collapsed": false,
     "input": [],
     "language": "python",
     "metadata": {},
     "outputs": [],
     "prompt_number": 81
    },
    {
     "cell_type": "code",
     "collapsed": false,
     "input": [],
     "language": "python",
     "metadata": {},
     "outputs": []
    }
   ],
   "metadata": {}
  }
 ]
}